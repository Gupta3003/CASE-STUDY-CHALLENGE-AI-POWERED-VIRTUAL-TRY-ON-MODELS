{
 "cells": [
  {
   "cell_type": "code",
   "execution_count": 5,
   "id": "1ff0db1a",
   "metadata": {},
   "outputs": [],
   "source": [
    "import sys\n",
    "import os\n",
    "\n",
    "# Add src/ folder to Python path\n",
    "sys.path.append(os.path.abspath(\"../src\"))"
   ]
  },
  {
   "cell_type": "code",
   "execution_count": 6,
   "id": "371f3966",
   "metadata": {},
   "outputs": [],
   "source": [
    "# inference_demo.ipynb\n",
    "import os\n",
    "import matplotlib.pyplot as plt\n",
    "from PIL import Image\n",
    "from utils import list_images"
   ]
  },
  {
   "cell_type": "code",
   "execution_count": 7,
   "id": "7382624a",
   "metadata": {},
   "outputs": [
    {
     "name": "stdout",
     "output_type": "stream",
     "text": [
      "c:\\Users\\HP\\Desktop\\projects\\Task_AI\\outputs\\inference_samples\n",
      "[]\n"
     ]
    }
   ],
   "source": [
    "import os\n",
    "\n",
    "PROJECT_ROOT = os.path.abspath(\"..\")  # or the path to your project root\n",
    "GEN_DIR = os.path.join(PROJECT_ROOT, \"outputs\", \"inference_samples\")\n",
    "\n",
    "print(GEN_DIR)\n",
    "print(os.listdir(GEN_DIR))  # check if it works\n",
    "NUM_SAMPLES = 5  # number of samples to show"
   ]
  },
  {
   "cell_type": "code",
   "execution_count": 8,
   "id": "ecb37610",
   "metadata": {},
   "outputs": [],
   "source": [
    "# Flatten all images across classes\n",
    "all_images = []\n",
    "for cls in sorted(os.listdir(GEN_DIR)):\n",
    "    cls_dir = os.path.join(GEN_DIR, cls)\n",
    "    if os.path.isdir(cls_dir):\n",
    "        all_images.extend(list_images(cls_dir))"
   ]
  },
  {
   "cell_type": "code",
   "execution_count": 9,
   "id": "6004f14c",
   "metadata": {},
   "outputs": [],
   "source": [
    "# Show side-by-side before → after\n",
    "for img_path in all_images[:NUM_SAMPLES]:\n",
    "    gen_img = Image.open(img_path)\n",
    "    \n",
    "    # corresponding ground-truth\n",
    "    gt_path = img_path.replace(\"outputs/inference_samples\", \"data/processed/images/test\")\n",
    "    gt_img = Image.open(gt_path)\n",
    "    \n",
    "    fig, axes = plt.subplots(1, 2, figsize=(8,4))\n",
    "    axes[0].imshow(gt_img)\n",
    "    axes[0].set_title(\"Ground Truth\")\n",
    "    axes[0].axis(\"off\")\n",
    "    \n",
    "    axes[1].imshow(gen_img)\n",
    "    axes[1].set_title(\"Generated\")\n",
    "    axes[1].axis(\"off\")\n",
    "    \n",
    "    plt.show()"
   ]
  }
 ],
 "metadata": {
  "kernelspec": {
   "display_name": "venv",
   "language": "python",
   "name": "python3"
  },
  "language_info": {
   "codemirror_mode": {
    "name": "ipython",
    "version": 3
   },
   "file_extension": ".py",
   "mimetype": "text/x-python",
   "name": "python",
   "nbconvert_exporter": "python",
   "pygments_lexer": "ipython3",
   "version": "3.11.9"
  }
 },
 "nbformat": 4,
 "nbformat_minor": 5
}
